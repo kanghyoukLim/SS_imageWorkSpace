{
 "cells": [
  {
   "cell_type": "markdown",
   "id": "6a56c56d-97cd-4c44-b0cd-6a1815b4d33e",
   "metadata": {},
   "source": [
    "## 2.동영상 출력\n",
    "\n",
    "### 동영상 파일 출력"
   ]
  },
  {
   "cell_type": "code",
   "execution_count": 1,
   "id": "9f920bc3-8bcc-4b27-b8a0-9e8abb8db047",
   "metadata": {
    "tags": []
   },
   "outputs": [],
   "source": [
    "import cv2"
   ]
  },
  {
   "cell_type": "code",
   "execution_count": 2,
   "id": "f10d88b1-f65b-4330-aeca-ec5f4c1dfc3b",
   "metadata": {
    "tags": []
   },
   "outputs": [
    {
     "name": "stdout",
     "output_type": "stream",
     "text": [
      "사용자에 의해 종료\n"
     ]
    }
   ],
   "source": [
    "cap = cv2.VideoCapture('movie.mp4')\n",
    "\n",
    "while cap.isOpened(): # 동영상 파일이 열렸는지?\n",
    "    ret, frame = cap.read() # ret : 성공여부, frame : 받아온 이미지(프레임)\n",
    "    if not ret:    # 가져올 프레임이 없으면 종료\n",
    "        print('더 이상 가져올 프레임이 없어요')\n",
    "        break \n",
    "        \n",
    "    cv2.imshow('video', frame) #창 이름 'video' 생성하여 프레임보여줌\n",
    "    \n",
    "    if cv2.waitKey(1) == ord('q') : #'q'값 입력되었을 때 종료\n",
    "        # waitKey('value')  'value'ms 시간 만큼 대기 후 다음 프레임 보여줌.\n",
    "        # value 로 영상 재생 속도 조절할 수 있음.\n",
    "        \n",
    "        print('사용자에 의해 종료')\n",
    "        break\n",
    "    \n",
    "    \n",
    "cap.release() # 자원 해제\n",
    "cv2.destroyAllWindows()  # 모든 창 닫기"
   ]
  },
  {
   "cell_type": "code",
   "execution_count": null,
   "id": "b7290434-b867-4ef5-a71b-6b9ac82c3be5",
   "metadata": {},
   "outputs": [],
   "source": []
  },
  {
   "cell_type": "markdown",
   "id": "735efa39-0799-4e17-8c87-c77effd75ad5",
   "metadata": {},
   "source": [
    "## 카메라 출력 (웹캠)"
   ]
  },
  {
   "cell_type": "code",
   "execution_count": 3,
   "id": "ed9f60ec-4a84-4cad-9790-1207458c8413",
   "metadata": {
    "tags": []
   },
   "outputs": [],
   "source": [
    "cap = cv2.VideoCapture(0) # 0번째 카메라 장치(Device ID)\n",
    "\n",
    "if not cap.isOpened(): # 카메라 열리지 않은 경우\n",
    "    exit()\n",
    "    \n",
    "while True:\n",
    "    ret, frame = cap.read()\n",
    "    if not ret:\n",
    "        break\n",
    "        \n",
    "    cv2.imshow('camera', frame)\n",
    "    if cv2.waitKey(1) == ord('q'): #사용자가 q를 입력하면 종료\n",
    "        break\n",
    "        \n",
    "cap.release()\n",
    "cv2.destroyAllWindows()"
   ]
  }
 ],
 "metadata": {
  "kernelspec": {
   "display_name": "Python 3 (ipykernel)",
   "language": "python",
   "name": "python3"
  },
  "language_info": {
   "codemirror_mode": {
    "name": "ipython",
    "version": 3
   },
   "file_extension": ".py",
   "mimetype": "text/x-python",
   "name": "python",
   "nbconvert_exporter": "python",
   "pygments_lexer": "ipython3",
   "version": "3.11.4"
  }
 },
 "nbformat": 4,
 "nbformat_minor": 5
}
