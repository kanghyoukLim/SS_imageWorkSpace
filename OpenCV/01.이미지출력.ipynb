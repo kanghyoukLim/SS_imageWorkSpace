{
 "cells": [
  {
   "cell_type": "markdown",
   "id": "17c8c30e-9445-407e-8cc1-43d7eff304bb",
   "metadata": {},
   "source": [
    "# OpenCV(Computer Vision)\n",
    "이미지/동영상 처리에 사용되는 오픈소스 라이브러리"
   ]
  },
  {
   "cell_type": "markdown",
   "id": "ca9ad611-546d-41e6-ab7c-0c383e9b8120",
   "metadata": {},
   "source": [
    "## 1.이미지 출력"
   ]
  },
  {
   "cell_type": "code",
   "execution_count": 2,
   "id": "9af219d7-4ada-4529-b371-a1fa8d7afd58",
   "metadata": {
    "tags": []
   },
   "outputs": [],
   "source": [
    "import cv2"
   ]
  },
  {
   "cell_type": "code",
   "execution_count": 8,
   "id": "b01016f1-bc6f-4e2b-bda8-c682e0ae5b50",
   "metadata": {
    "tags": []
   },
   "outputs": [
    {
     "name": "stdout",
     "output_type": "stream",
     "text": [
      "103\n"
     ]
    }
   ],
   "source": [
    "img = cv2.imread('img2.jpg')\n",
    "cv2.imshow('IMG',img) #IMG라는 이름의 창에 img를 표시\n",
    "key = cv2.waitKey(0) # 지정된 시간동안 사용자 키 입력 대기 '0'은 무한정 대기\n",
    "print(key) # 입력된 key의 아스키코드 값을 보여줌\n",
    "cv2.destroyAllWindows() # 모든 창 닫기"
   ]
  },
  {
   "cell_type": "markdown",
   "id": "c437cfe5-51bd-4294-b615-880faf8d9183",
   "metadata": {
    "tags": []
   },
   "source": [
    "## 읽기 옵션\n",
    "1. cv2.IMREAD_COLOR : 컬러 이미지\n",
    "2. cv2.IMREAD_GRAYSCALE :흑백 이미지\n",
    "3. cv2.IMREAD_UNCHANGED :투명 영역까지 포함"
   ]
  },
  {
   "cell_type": "markdown",
   "id": "ffde8fa7-c9c5-4762-836b-cf84737b9e62",
   "metadata": {
    "tags": []
   },
   "source": [
    "## Shape\n",
    "이미지의 height, width, channel 정보"
   ]
  },
  {
   "cell_type": "code",
   "execution_count": 13,
   "id": "a939271d-4322-41db-b20c-4a99ffe5130d",
   "metadata": {
    "tags": []
   },
   "outputs": [
    {
     "data": {
      "text/plain": [
       "(3024, 4032, 3)"
      ]
     },
     "execution_count": 13,
     "metadata": {},
     "output_type": "execute_result"
    }
   ],
   "source": [
    "img = cv2.imread('img2.jpg')\n",
    "img.shape"
   ]
  }
 ],
 "metadata": {
  "kernelspec": {
   "display_name": "Python 3 (ipykernel)",
   "language": "python",
   "name": "python3"
  },
  "language_info": {
   "codemirror_mode": {
    "name": "ipython",
    "version": 3
   },
   "file_extension": ".py",
   "mimetype": "text/x-python",
   "name": "python",
   "nbconvert_exporter": "python",
   "pygments_lexer": "ipython3",
   "version": "3.11.4"
  }
 },
 "nbformat": 4,
 "nbformat_minor": 5
}
