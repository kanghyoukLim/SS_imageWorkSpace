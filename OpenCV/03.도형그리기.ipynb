{
 "cells": [
  {
   "cell_type": "markdown",
   "id": "63d703cb-0b78-42fc-9e45-084f5e76ecea",
   "metadata": {},
   "source": [
    "## 3.도형그리기"
   ]
  },
  {
   "cell_type": "markdown",
   "id": "bd9c742d-d18f-41fa-bca7-0f0f87a7a907",
   "metadata": {},
   "source": [
    "### 빈 스케치북 만들기"
   ]
  },
  {
   "cell_type": "code",
   "execution_count": 5,
   "id": "c12c793f-5df0-4de6-9b54-cd2b9719a1fa",
   "metadata": {
    "tags": []
   },
   "outputs": [],
   "source": [
    "import cv2\n",
    "import numpy as np\n",
    "\n",
    "# 세로 480 X 가로 640, 3Channel (RGB)에 해당하는 스케치북 만들기\n",
    "img = np.zeros((480,640,3), dtype=np.uint8)\n",
    "img[:] = (255,255,255) #전체를 흰색으로 채우기\n",
    "# print(img)\n",
    "cv2.imshow('img', img)\n",
    "cv2.waitKey(0)\n",
    "cv2.destroyAllWindows()"
   ]
  },
  {
   "cell_type": "markdown",
   "id": "82d50b87-d112-4393-9f56-7e814a0e1052",
   "metadata": {},
   "source": [
    "## 일부 영역 색칠"
   ]
  },
  {
   "cell_type": "code",
   "execution_count": 7,
   "id": "669a43f5-f47f-4782-b093-16ac528cf8b7",
   "metadata": {
    "tags": []
   },
   "outputs": [],
   "source": [
    "img = np.zeros((480,640,3), dtype=np.uint8)\n",
    "img[100:200, 200:300] = (255,255,255) #전체를 흰색으로 채우기\n",
    "# print(img)\n",
    "cv2.imshow('img', img)\n",
    "cv2.waitKey(0)\n",
    "cv2.destroyAllWindows()"
   ]
  },
  {
   "cell_type": "markdown",
   "id": "c609e528-14bf-40d2-a5e7-ce213d6877df",
   "metadata": {},
   "source": [
    "## 직선 그리기\n",
    "직선의 종류(line type)\n",
    "\n",
    "1. cv2.LINE_4 : 상하좌우 4방향으로 연결된 선\n",
    "1. cv2.LINE_8 : 대각선을 포함한 8방향으로 연결된 선(기본값)\n",
    "1. cv2.LINE_AA : 부드러운 선(anti-aliasing)\n",
    "\n",
    "\n"
   ]
  },
  {
   "cell_type": "code",
   "execution_count": 11,
   "id": "c644591f-d5dc-41df-a7f9-5b4a4a590aa2",
   "metadata": {
    "tags": []
   },
   "outputs": [],
   "source": [
    "img = np.zeros((480,640,3), dtype=np.uint8)\n",
    "\n",
    "COLOR = (0,255,255) #BRG 순서 : Yellow\n",
    "THICKNESS = 3 # 두께\n",
    "\n",
    "cv2.line(img, (50,100), (400,50), COLOR, THICKNESS, cv2.LINE_8)\n",
    "# 그릴 위치, 시작 점, 끝 점, 색깔, 두께, 선 종류\n",
    "cv2.line(img, (50,200), (400,150), COLOR, THICKNESS, cv2.LINE_4)\n",
    "cv2.line(img, (50,300), (400,250), COLOR, THICKNESS, cv2.LINE_AA)\n",
    "\n",
    "\n",
    "cv2.imshow('img', img)\n",
    "cv2.waitKey(0)\n",
    "cv2.destroyAllWindows()"
   ]
  },
  {
   "cell_type": "markdown",
   "id": "b503a2aa-2969-4da4-ab2c-7cc1500730b5",
   "metadata": {},
   "source": [
    "## 원"
   ]
  },
  {
   "cell_type": "code",
   "execution_count": 15,
   "id": "5a95d78c-5897-4829-8571-9869755e289f",
   "metadata": {
    "tags": []
   },
   "outputs": [],
   "source": [
    "img = np.zeros((480,640,3), dtype=np.uint8)\n",
    "\n",
    "COLOR = (255,255,0) #BRG 순서 \n",
    "radius = 50 # 반지름\n",
    "THICKNESS = 3 # 두께\n",
    "\n",
    "cv2.circle(img, (200,100), radius, COLOR, THICKNESS, cv2.LINE_AA) # 속이 빈 원\n",
    "# 그릴 위치, 시작 점, 끝 점, 색깔, 두께, 선 종류\n",
    "cv2.circle(img, (400,100), radius, COLOR, cv2.FILLED, cv2.LINE_AA) # 속이 꽉 찬원, Thickness 자리에 -1 로도 동일한 효과\n",
    "cv2.line(img, (50,200), (400,150), COLOR, THICKNESS, cv2.LINE_4)\n",
    "cv2.line(img, (50,300), (400,250), COLOR, THICKNESS, cv2.LINE_AA)\n",
    "\n",
    "\n",
    "cv2.imshow('img', img)\n",
    "cv2.waitKey(0)\n",
    "cv2.destroyAllWindows()"
   ]
  },
  {
   "cell_type": "markdown",
   "id": "4d003154-6c28-4477-88c3-47eadc13ab66",
   "metadata": {},
   "source": [
    "## 사각형"
   ]
  },
  {
   "cell_type": "code",
   "execution_count": 17,
   "id": "be7681a8-e9b3-4d71-819c-9bf78c3734ca",
   "metadata": {
    "tags": []
   },
   "outputs": [],
   "source": [
    "img = np.zeros((480,640,3), dtype=np.uint8)\n",
    "\n",
    "COLOR = (0,255,0) #BRG 순서 \n",
    "THICKNESS = 3 # 두께\n",
    "\n",
    "cv2.rectangle(img, (100,100), (200,200), COLOR, THICKNESS) # 속이 빈 사각형\n",
    "# 그릴 위치, 왼쪽 위 좌표, 오른쪽 아래 좌표, 색깔, 두께\n",
    "cv2.rectangle(img, (300,100), (500,200), COLOR, -1) # 속이 꽉 찬 사각형\n",
    "\n",
    "\n",
    "cv2.imshow('img', img)\n",
    "cv2.waitKey(0)\n",
    "cv2.destroyAllWindows()"
   ]
  },
  {
   "cell_type": "markdown",
   "id": "9c341ba9-d49e-450d-abdb-ccf26caa10a0",
   "metadata": {},
   "source": [
    "## 다각형"
   ]
  },
  {
   "cell_type": "code",
   "execution_count": 18,
   "id": "7669409b-cc80-4a7d-bf31-371028b2be1b",
   "metadata": {
    "tags": []
   },
   "outputs": [],
   "source": [
    "img = np.zeros((480,640,3), dtype=np.uint8)\n",
    "\n",
    "COLOR = (0,0,255) #BRG 순서, 빨강\n",
    "THICKNESS = 3 # 두께\n",
    "\n",
    "# 다각형은 좌표를 각각 정해줘야 함\n",
    "\n",
    "pts1 = np.array([[100,100],[200,100],[100,200]])\n",
    "\n",
    "cv2.polylines(img, [pts1], True, COLOR, THICKNESS, cv2.LINE_AA) # 속이 빈 사각형\n",
    "# 그릴 위치, 왼쪽 위 좌표, 오른쪽 아래 좌표, 색깔, 두께\n",
    "cv2.rectangle(img, (300,100), (500,200), COLOR, -1) # 속이 꽉 찬 사각형\n",
    "\n",
    "\n",
    "cv2.imshow('img', img)\n",
    "cv2.waitKey(0)\n",
    "cv2.destroyAllWindows()"
   ]
  },
  {
   "cell_type": "code",
   "execution_count": null,
   "id": "74a18168-ec49-4f78-9a72-a157ac9d4c8f",
   "metadata": {},
   "outputs": [],
   "source": []
  },
  {
   "cell_type": "code",
   "execution_count": null,
   "id": "8e4d1f5a-5b84-404e-bd66-d34ce1e0dfa7",
   "metadata": {},
   "outputs": [],
   "source": []
  },
  {
   "cell_type": "code",
   "execution_count": null,
   "id": "5b439784-84ff-4c13-ae82-162e3d2630e6",
   "metadata": {},
   "outputs": [],
   "source": []
  },
  {
   "cell_type": "code",
   "execution_count": null,
   "id": "07656ce2-6050-4873-b00c-37d6b0f6bbe6",
   "metadata": {},
   "outputs": [],
   "source": []
  },
  {
   "cell_type": "code",
   "execution_count": null,
   "id": "9503b8bd-7396-49cd-8ea9-cde86dd7b887",
   "metadata": {},
   "outputs": [],
   "source": []
  },
  {
   "cell_type": "code",
   "execution_count": null,
   "id": "0e02f891-1251-44c7-a402-082b05b48843",
   "metadata": {},
   "outputs": [],
   "source": []
  },
  {
   "cell_type": "code",
   "execution_count": null,
   "id": "71150923-d922-4de0-911e-77b35730e781",
   "metadata": {},
   "outputs": [],
   "source": [
    "q"
   ]
  },
  {
   "cell_type": "code",
   "execution_count": null,
   "id": "61393d60-4c9d-423c-97b0-63f057416840",
   "metadata": {},
   "outputs": [],
   "source": []
  },
  {
   "cell_type": "code",
   "execution_count": null,
   "id": "413d6602-b270-45fc-a9b6-65e37a8d3868",
   "metadata": {},
   "outputs": [],
   "source": []
  },
  {
   "cell_type": "code",
   "execution_count": null,
   "id": "0eade1c9-70ef-4a92-aeb3-06a36cc924ca",
   "metadata": {},
   "outputs": [],
   "source": []
  },
  {
   "cell_type": "code",
   "execution_count": null,
   "id": "4260617f-efc6-4234-ab5c-12930b1cb188",
   "metadata": {},
   "outputs": [],
   "source": []
  },
  {
   "cell_type": "code",
   "execution_count": null,
   "id": "879522eb-52b5-43db-96d0-16208b24fea3",
   "metadata": {},
   "outputs": [],
   "source": []
  },
  {
   "cell_type": "code",
   "execution_count": null,
   "id": "2451da35-2b91-4b43-9282-ce6866ada56f",
   "metadata": {},
   "outputs": [],
   "source": []
  }
 ],
 "metadata": {
  "kernelspec": {
   "display_name": "Python 3 (ipykernel)",
   "language": "python",
   "name": "python3"
  },
  "language_info": {
   "codemirror_mode": {
    "name": "ipython",
    "version": 3
   },
   "file_extension": ".py",
   "mimetype": "text/x-python",
   "name": "python",
   "nbconvert_exporter": "python",
   "pygments_lexer": "ipython3",
   "version": "3.11.4"
  }
 },
 "nbformat": 4,
 "nbformat_minor": 5
}
